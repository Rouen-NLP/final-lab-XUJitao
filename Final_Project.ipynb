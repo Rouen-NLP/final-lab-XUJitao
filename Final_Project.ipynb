{
 "cells": [
  {
   "cell_type": "code",
   "execution_count": 1,
   "metadata": {},
   "outputs": [
    {
     "name": "stderr",
     "output_type": "stream",
     "text": [
      "Using TensorFlow backend.\n"
     ]
    }
   ],
   "source": [
    "import numpy as np\n",
    "import os\n",
    "from sklearn.model_selection import train_test_split\n",
    "import matplotlib.pyplot as plt\n",
    "%matplotlib inline\n",
    "from sklearn.metrics import confusion_matrix\n",
    "from sklearn.metrics import classification_report, precision_recall_fscore_support, accuracy_score\n",
    "import itertools\n",
    "from time import time\n",
    "import fasttext\n",
    "from sklearn import preprocessing\n",
    "from keras.utils import np_utils\n",
    "from keras.layers import Dense, Embedding, Input\n",
    "from keras.layers import Dropout, MaxPooling1D, Conv1D, Flatten, LSTM\n",
    "from keras.models import Model\n",
    "from keras.preprocessing import text, sequence\n",
    "from nn_utils import TrainingHistory"
   ]
  },
  {
   "cell_type": "code",
   "execution_count": 17,
   "metadata": {},
   "outputs": [
    {
     "name": "stdout",
     "output_type": "stream",
     "text": [
      "['Advertisement', 'Email', 'Form', 'Letter', 'Memo', 'News', 'Note', 'Report', 'Resume', 'Scientific']\n",
      "['230', '599', '431', '567', '620', '188', '201', '265', '120', '261']\n"
     ]
    }
   ],
   "source": [
    "base_data_dir = \"data/Tobacco3482-OCR/\"\n",
    "list_dir = os.listdir(base_data_dir)\n",
    "print(str(list_dir))\n",
    "nbs = []\n",
    "x = []\n",
    "y = []\n",
    "for repo in list_dir:\n",
    "    prefix = base_data_dir + repo + '/'\n",
    "    files = os.listdir(prefix)\n",
    "    for file in files:\n",
    "        with open(prefix + file, 'r') as f:\n",
    "            txt = f.read()\n",
    "        x.append(txt)\n",
    "        y.append(repo)\n",
    "    nbs.append(str(len(files)))\n",
    "print(str(nbs))\n",
    "#x = np.array(x)\n",
    "#y = np.array(y)"
   ]
  },
  {
   "cell_type": "code",
   "execution_count": 7,
   "metadata": {},
   "outputs": [],
   "source": [
    "x_train, x_test, y_train, y_test = train_test_split(x, y, test_size=0.2)"
   ]
  },
  {
   "cell_type": "code",
   "execution_count": 12,
   "metadata": {},
   "outputs": [],
   "source": [
    "for i in range(x.shape[0]):\n",
    "    x[i] = x[i].replace('\\n', ' ')\n",
    "with open('tobacco_nolabel.txt', 'w') as f:\n",
    "    for i in x:\n",
    "        f.write(i + '\\n')"
   ]
  },
  {
   "cell_type": "code",
   "execution_count": 5,
   "metadata": {
    "scrolled": true
   },
   "outputs": [],
   "source": [
    "with open('tobacco_train.txt', 'w') as f:\n",
    "    for i in range(x_train.shape[0]):\n",
    "        line = x_train[i] + ' __label__' + y_train[i] + '\\n'\n",
    "        f.write(line)\n",
    "with open('tobacco_test.txt', 'w') as f:\n",
    "    for i in range(x_test.shape[0]):\n",
    "        line = x_test[i] + ' __label__' + y_test[i] + '\\n'\n",
    "        f.write(line)"
   ]
  },
  {
   "cell_type": "code",
   "execution_count": 6,
   "metadata": {},
   "outputs": [
    {
     "data": {
      "text/plain": [
       "'Memo'"
      ]
     },
     "execution_count": 6,
     "metadata": {},
     "output_type": "execute_result"
    }
   ],
   "source": [
    "y[300]"
   ]
  },
  {
   "cell_type": "code",
   "execution_count": 7,
   "metadata": {},
   "outputs": [
    {
     "data": {
      "text/plain": [
       "'SLevrillard  MEMORANDUM September 24, 1993 TO: W. R. Deaton FROM: E. F. DeLaura RE: Panel Results: Harley Lights 100 MM R&D #1385-6/93  Attached are the Low Tar panel results for The Harley Lights V 1OOMM proto.  Results for the previously reported Harley Lights V 85 MM and the Regular brand are also shown as a source of  reference.  Just to note, the Regular brand testing in which these Low Tar NM panel members tested their own brand blinded, will serve as benchmark data in this and subsequent/panel memos.  The Regular brand results represent the \"ideal ratings\" as most respondents were extremely favorable in their  evaluations for their regular brand (in test).  Product Specs are as follows:  Harley Lts. 100 MM 9.8 mgs. tar -71 mgs. nic. Harley Lts. 85 MM 8.5 mgs. tar .66 mgs. nic. Conclusions  The Harley Lts. 100 MM proto (1385-6-93) attained an average acceptance of 6.5 among total respondents. While the product scored well among 100 MM and smokers 30 years of age and over, it netted out poorly with the 85 MM smokers and  those 18 to 29 years of age.  The 85 MM proto (1592/93-93) fared better in total, 6.8, and among all sub groups. Of note is how the 18-29 year old smokers rated all three products the lowest of all the  sub-groups. (See Table 1)  Product Performance Total Smokers  The key problem with Harley Lts. 100 MM is its \"too light/not strong enough\" taste. It was not cited as overly harsh tasting or having an unpleasant aftertaste.  (See Table 2)'"
      ]
     },
     "execution_count": 7,
     "metadata": {},
     "output_type": "execute_result"
    }
   ],
   "source": [
    "x[300]"
   ]
  },
  {
   "cell_type": "code",
   "execution_count": 3,
   "metadata": {},
   "outputs": [],
   "source": [
    "true_labels = []\n",
    "pred_labels = []\n",
    "texts = []\n",
    "clf = fasttext.supervised('tobacco_train.txt',\n",
    "                          'model',\n",
    "                          maxn=5,\n",
    "                          thread=16,\n",
    "                          epoch=100)\n",
    "with open('tobacco_test.txt') as f:\n",
    "    for line in f:\n",
    "        spli = line.split(\"__label__\")\n",
    "        true_labels.append(spli[1].replace(\"\\n\", \"\"))\n",
    "        texts.append(spli[0])\n",
    "pred_labels = [e[0] for e in clf.predict(texts)]\n"
   ]
  },
  {
   "cell_type": "code",
   "execution_count": 12,
   "metadata": {},
   "outputs": [],
   "source": [
    "def plot_confusion_matrix(cm, classes,\n",
    "                          normalize=False,\n",
    "                          title='Confusion matrix',\n",
    "                          cmap=plt.cm.Blues):\n",
    "    \"\"\"\n",
    "    This function prints and plots the confusion matrix.\n",
    "    Normalization can be applied by setting `normalize=True`.\n",
    "    \"\"\"\n",
    "    if normalize:\n",
    "        cm = cm.astype('float') / cm.sum(axis=1)[:, np.newaxis]\n",
    "        print(\"Normalized confusion matrix\")\n",
    "    else:\n",
    "        print('Confusion matrix, without normalization')\n",
    "\n",
    "    #print(cm)\n",
    "\n",
    "    plt.imshow(cm, interpolation='nearest', cmap=cmap)\n",
    "    plt.title(title)\n",
    "    #plt.colorbar()\n",
    "    tick_marks = np.arange(len(classes))\n",
    "    plt.xticks(tick_marks, classes, rotation=45)\n",
    "    plt.yticks(tick_marks, classes)\n",
    "\n",
    "    fmt = '.2f' if normalize else 'd'\n",
    "    thresh = cm.max() / 2.\n",
    "    for i, j in itertools.product(range(cm.shape[0]), range(cm.shape[1])):\n",
    "        plt.text(j, i, format(cm[i, j], fmt),\n",
    "                 horizontalalignment=\"center\",\n",
    "                 color=\"white\" if cm[i, j] > thresh else \"black\")\n",
    "\n",
    "    plt.ylabel('True label')\n",
    "    plt.xlabel('Predicted label')\n",
    "    plt.tight_layout()"
   ]
  },
  {
   "cell_type": "code",
   "execution_count": 9,
   "metadata": {},
   "outputs": [
    {
     "name": "stdout",
     "output_type": "stream",
     "text": [
      "Confusion matrix, without normalization\n",
      "Normalized confusion matrix\n"
     ]
    },
    {
     "data": {
      "image/png": "[encoded data removed]",
      "text/plain": [
       "<Figure size 720x720 with 2 Axes>"
      ]
     },
     "metadata": {
      "needs_background": "light"
     },
     "output_type": "display_data"
    },
    {
     "name": "stdout",
     "output_type": "stream",
     "text": [
      "Test Accuracy: 0.7675753228120517\n"
     ]
    }
   ],
   "source": [
    "class_names = np.unique(true_labels)\n",
    "conf_mat = confusion_matrix(true_labels, pred_labels)\n",
    "plt.figure(figsize=(10,10))\n",
    "plt.subplot(121)\n",
    "plot_confusion_matrix(conf_mat, class_names, title='Confusion matrix, without normalization')\n",
    "plt.subplot(122)\n",
    "plot_confusion_matrix(conf_mat, class_names, normalize=True, title='Normalized confusion matrix')\n",
    "plt.show()\n",
    "print(\"Test Accuracy:\", accuracy_score(true_labels, pred_labels))"
   ]
  },
  {
   "cell_type": "markdown",
   "metadata": {},
   "source": [
    "# Train word vectors with FastText Skipgram"
   ]
  },
  {
   "cell_type": "code",
   "execution_count": 62,
   "metadata": {},
   "outputs": [
    {
     "name": "stdout",
     "output_type": "stream",
     "text": [
      "50.85021424293518\n"
     ]
    }
   ],
   "source": [
    "tic = time()\n",
    "model_skipgram = fasttext.skipgram('tobacco_nolabel.txt', \n",
    "                                   'ft_skipgram_100',\n",
    "                                   min_count=1,\n",
    "                                   dim=100,\n",
    "                                   epoch=50,\n",
    "                                   thread=16)\n",
    "toc = time()\n",
    "print(toc - tic)"
   ]
  },
  {
   "cell_type": "markdown",
   "metadata": {},
   "source": [
    "# Neural network model for text classification"
   ]
  },
  {
   "cell_type": "code",
   "execution_count": 69,
   "metadata": {},
   "outputs": [],
   "source": [
    "def get_train_test(train_raw_text, test_raw_text):\n",
    "    \n",
    "    tokenizer = text.Tokenizer(num_words=MAX_FEATURES)\n",
    "\n",
    "    tokenizer.fit_on_texts(list(train_raw_text))\n",
    "    word_index = tokenizer.word_index\n",
    "    train_tokenized = tokenizer.texts_to_sequences(train_raw_text)\n",
    "    test_tokenized = tokenizer.texts_to_sequences(test_raw_text)\n",
    "    return sequence.pad_sequences(train_tokenized, maxlen=MAX_TEXT_LENGTH), \\\n",
    "           sequence.pad_sequences(test_tokenized, maxlen=MAX_TEXT_LENGTH), \\\n",
    "           word_index\n",
    "\n",
    "\n",
    "def class_str_2_ind(x_train, x_test, y_train, y_test):\n",
    "    print('Converting data to trainable form...')\n",
    "    le = preprocessing.LabelEncoder()\n",
    "    CLASSES_LIST = np.unique(y_train)\n",
    "    n_out = len(CLASSES_LIST)\n",
    "    le.fit(CLASSES_LIST)\n",
    "    y_train = le.transform(y_train)\n",
    "    y_test = le.transform(y_test)\n",
    "    train_y_cat = np_utils.to_categorical(y_train, n_out)\n",
    "    x_vec_train, x_vec_test, word_index = get_train_test(x_train, x_test)\n",
    "    print('Number of training examples: ' + str(len(x_vec_train)))\n",
    "    print('Number of test examples: ' + str(len(x_vec_test)))\n",
    "    \n",
    "    return x_vec_train, x_vec_test, y_train, y_test, train_y_cat, word_index\n",
    "\n",
    "\n",
    "def get_embedding_index(vectors_file_path):\n",
    "    embeddings_index = {}\n",
    "    with open(vectors_file_path, 'r') as f:\n",
    "        first_line = f.readline()\n",
    "        #print(first_line)\n",
    "        for line in f:\n",
    "            values = line.split()\n",
    "            word = values[0]\n",
    "            coefs = np.asarray(values[1:], dtype='float32')\n",
    "            embeddings_index[word] = coefs\n",
    "            \n",
    "    print('Found %s word vectors.' % len(embeddings_index))\n",
    "    \n",
    "    return embeddings_index\n",
    "\n",
    "\n",
    "def get_embedding_matrix(word_index, embedding_index):\n",
    "    print('Building embedding matrix...')\n",
    "    embedding_matrix = np.zeros((len(word_index) + 1, EMBED_SIZE))\n",
    "    for word, i in word_index.items():\n",
    "        embedding_vector = embedding_index.get(word)\n",
    "        if embedding_vector is not None:\n",
    "            # words not found in embedding index will be all-zeros.\n",
    "            embedding_matrix[i] = embedding_vector\n",
    "    print('Embedding matrix built.')        \n",
    "    return embedding_matrix\n",
    "\n",
    "\n",
    "def train_fit_predict(model, x_train, x_test, y_train, history):\n",
    "    \n",
    "    model.fit(x_train, y_train,\n",
    "              batch_size=BATCH_SIZE,\n",
    "              epochs=EPOCHS, verbose=1,\n",
    "              validation_split=VALIDATION_SPLIT)\n",
    "\n",
    "    return model.predict(x_test)\n",
    "\n",
    "\n",
    "def plot_conf_mat(y_test, y_predicted):\n",
    "    conf_mat = confusion_matrix(y_test, y_predicted)\n",
    "    plt.figure(figsize=(10,10))\n",
    "    plt.subplot(121)\n",
    "    plot_confusion_matrix(conf_mat, CLASSES_LIST, title='Confusion matrix, without normalization')\n",
    "    plt.subplot(122)\n",
    "    plot_confusion_matrix(conf_mat, CLASSES_LIST, normalize=True, title='Normalized confusion matrix')"
   ]
  },
  {
   "cell_type": "code",
   "execution_count": 70,
   "metadata": {},
   "outputs": [],
   "source": [
    "def evaluation(vectors_file_path, print_sum=True, plot_mat=True):\n",
    "    embedding_index = get_embedding_index(vectors_file_path)\n",
    "    embedding_matrix = get_embedding_matrix(word_index, embedding_index)\n",
    "    print('Building model...')\n",
    "    model = get_model(embedding_matrix, word_index, print_sum=print_sum)\n",
    "    history = TrainingHistory(x_vec_test, y_test, CLASSES_LIST)\n",
    "    y_predicted = train_fit_predict(model, x_vec_train, x_vec_test, train_y_cat, history).argmax(1)\n",
    "    print(\"Test Accuracy:\", accuracy_score(y_test, y_predicted))\n",
    "    if plot_mat:\n",
    "        plot_conf_mat(y_test, y_predicted)\n",
    "    return accuracy_score(y_test, y_predicted)"
   ]
  },
  {
   "cell_type": "code",
   "execution_count": 80,
   "metadata": {},
   "outputs": [],
   "source": [
    "base_data_dir = \"data/Tobacco3482-OCR/\"\n",
    "list_dir = os.listdir(base_data_dir)\n",
    "x = []\n",
    "y = []\n",
    "for repo in list_dir:\n",
    "    prefix = base_data_dir + repo + '/'\n",
    "    files = os.listdir(prefix)\n",
    "    for file in files:\n",
    "        with open(prefix + file, 'r') as f:\n",
    "            txt = f.read()\n",
    "        x.append(txt)\n",
    "        y.append(repo)\n",
    "for i in range(len(x)):\n",
    "    x[i] = x[i].replace('\\n', ' ')\n",
    "x_train, x_test, y_train, y_test = train_test_split(x, y, test_size=0.2)\n",
    "vectors_file_path = 'ft_skipgram_100.vec'\n",
    "with open('ft_skipgram_100.vec') as f:\n",
    "    first_line = f.readline().split()"
   ]
  },
  {
   "cell_type": "code",
   "execution_count": 116,
   "metadata": {},
   "outputs": [],
   "source": [
    "# Model parameters\n",
    "MAX_FEATURES = int(first_line[0])\n",
    "MAX_TEXT_LENGTH = 500\n",
    "EMBED_SIZE  = int(first_line[1])\n",
    "BATCH_SIZE = 128\n",
    "EPOCHS = 100\n",
    "VALIDATION_SPLIT = 0.1\n",
    "CLASSES_LIST = np.unique(y_train)\n",
    "NUM_CLASS = len(CLASSES_LIST)"
   ]
  },
  {
   "cell_type": "code",
   "execution_count": 117,
   "metadata": {},
   "outputs": [
    {
     "name": "stdout",
     "output_type": "stream",
     "text": [
      "Label categories: [0 1 2 3 4 5 6 7 8 9]\n",
      "Converting data to trainable form...\n",
      "Number of training examples: 2785\n",
      "Number of test examples: 697\n"
     ]
    }
   ],
   "source": [
    "#x_train, x_test, y_train, y_test = train_test_split(x, y, test_size=0.2)\n",
    "#CLASSES_LIST = np.unique(y_train)\n",
    "print('Label categories: ' + str(CLASSES_LIST))\n",
    "x_vec_train, x_vec_test, y_train, y_test, train_y_cat, word_index = class_str_2_ind(x_train, x_test, y_train, y_test)"
   ]
  },
  {
   "cell_type": "code",
   "execution_count": 118,
   "metadata": {},
   "outputs": [
    {
     "data": {
      "text/plain": [
       "73726"
      ]
     },
     "execution_count": 118,
     "metadata": {},
     "output_type": "execute_result"
    }
   ],
   "source": [
    "len(word_index)"
   ]
  },
  {
   "cell_type": "code",
   "execution_count": 119,
   "metadata": {},
   "outputs": [],
   "source": [
    "def get_model(embedding_matrix, word_index, print_sum=True):\n",
    "\n",
    "    inp = Input(shape=(MAX_TEXT_LENGTH,))\n",
    "\n",
    "    model = Embedding(len(word_index) + 1,\n",
    "                      EMBED_SIZE,\n",
    "                      weights=[embedding_matrix],\n",
    "                      input_length=MAX_TEXT_LENGTH,\n",
    "                      trainable=False)(inp)\n",
    "    \n",
    "    #model = Dropout(0.2)(model)\n",
    "    model = Conv1D(filters=128, kernel_size=3, padding='same', activation='relu')(model)\n",
    "    model = Dropout(0.5)(model)\n",
    "    model = MaxPooling1D(pool_size=2)(model)\n",
    "    \n",
    "    #model = Dropout(0.5)(model)\n",
    "    model = Conv1D(filters=64, kernel_size=3, padding='same', activation='relu')(model)\n",
    "    model = Dropout(0.5)(model)\n",
    "    model = MaxPooling1D(pool_size=2)(model)\n",
    "    #model = Flatten()(model)\n",
    "    model = LSTM(128, dropout=0.5, recurrent_dropout=0.3)(model)\n",
    "    model = Dense(512, activation='relu')(model)\n",
    "    model = Dropout(0.5)(model)\n",
    "    model = Dense(NUM_CLASS, activation=\"softmax\")(model)\n",
    "    model = Model(inputs=inp, outputs=model)\n",
    "    \n",
    "    model.compile(loss='categorical_crossentropy', optimizer='adam', metrics=['accuracy'])\n",
    "    if print_sum:\n",
    "        model.summary()\n",
    "    return model"
   ]
  },
  {
   "cell_type": "code",
   "execution_count": 120,
   "metadata": {},
   "outputs": [
    {
     "name": "stdout",
     "output_type": "stream",
     "text": [
      "Found 155801 word vectors.\n",
      "Building embedding matrix...\n",
      "Embedding matrix built.\n",
      "Building model...\n",
      "_________________________________________________________________\n",
      "Layer (type)                 Output Shape              Param #   \n",
      "=================================================================\n",
      "input_31 (InputLayer)        (None, 500)               0         \n",
      "_________________________________________________________________\n",
      "embedding_31 (Embedding)     (None, 500, 100)          7372700   \n",
      "_________________________________________________________________\n",
      "conv1d_32 (Conv1D)           (None, 500, 128)          38528     \n",
      "_________________________________________________________________\n",
      "dropout_38 (Dropout)         (None, 500, 128)          0         \n",
      "_________________________________________________________________\n",
      "max_pooling1d_32 (MaxPooling (None, 250, 128)          0         \n",
      "_________________________________________________________________\n",
      "conv1d_33 (Conv1D)           (None, 250, 64)           24640     \n",
      "_________________________________________________________________\n",
      "dropout_39 (Dropout)         (None, 250, 64)           0         \n",
      "_________________________________________________________________\n",
      "max_pooling1d_33 (MaxPooling (None, 125, 64)           0         \n",
      "_________________________________________________________________\n",
      "lstm_21 (LSTM)               (None, 128)               98816     \n",
      "_________________________________________________________________\n",
      "dense_57 (Dense)             (None, 512)               66048     \n",
      "_________________________________________________________________\n",
      "dropout_40 (Dropout)         (None, 512)               0         \n",
      "_________________________________________________________________\n",
      "dense_58 (Dense)             (None, 10)                5130      \n",
      "=================================================================\n",
      "Total params: 7,605,862\n",
      "Trainable params: 233,162\n",
      "Non-trainable params: 7,372,700\n",
      "_________________________________________________________________\n",
      "Train on 2506 samples, validate on 279 samples\n",
      "Epoch 1/100\n",
      "2506/2506 [==============================] - 9s 4ms/step - loss: 2.2168 - acc: 0.1716 - val_loss: 2.1308 - val_acc: 0.3011\n",
      "Epoch 2/100\n",
      "2506/2506 [==============================] - 3s 1ms/step - loss: 2.1680 - acc: 0.1979 - val_loss: 2.0337 - val_acc: 0.3441\n",
      "Epoch 3/100\n",
      "2506/2506 [==============================] - 3s 1ms/step - loss: 2.0540 - acc: 0.2506 - val_loss: 1.7944 - val_acc: 0.3978\n",
      "Epoch 4/100\n",
      "2506/2506 [==============================] - 3s 1ms/step - loss: 1.7702 - acc: 0.3468 - val_loss: 1.5707 - val_acc: 0.3871\n",
      "Epoch 5/100\n",
      "2506/2506 [==============================] - 3s 1ms/step - loss: 1.6152 - acc: 0.3998 - val_loss: 1.4676 - val_acc: 0.4301\n",
      "Epoch 6/100\n",
      "2506/2506 [==============================] - 3s 1ms/step - loss: 1.5465 - acc: 0.4034 - val_loss: 1.4963 - val_acc: 0.4480\n",
      "Epoch 7/100\n",
      "2506/2506 [==============================] - 3s 1ms/step - loss: 1.4584 - acc: 0.4469 - val_loss: 1.5937 - val_acc: 0.4695\n",
      "Epoch 8/100\n",
      "2506/2506 [==============================] - 3s 1ms/step - loss: 1.3541 - acc: 0.4872 - val_loss: 1.3692 - val_acc: 0.4946\n",
      "Epoch 9/100\n",
      "2506/2506 [==============================] - 3s 1ms/step - loss: 1.3035 - acc: 0.5052 - val_loss: 1.2875 - val_acc: 0.5520\n",
      "Epoch 10/100\n",
      "2506/2506 [==============================] - 3s 1ms/step - loss: 1.2295 - acc: 0.5511 - val_loss: 1.1180 - val_acc: 0.5699\n",
      "Epoch 11/100\n",
      "2506/2506 [==============================] - 3s 1ms/step - loss: 1.1813 - acc: 0.5754 - val_loss: 1.0698 - val_acc: 0.6129\n",
      "Epoch 12/100\n",
      "2506/2506 [==============================] - 3s 1ms/step - loss: 1.1211 - acc: 0.5850 - val_loss: 1.0220 - val_acc: 0.6416\n",
      "Epoch 13/100\n",
      "2506/2506 [==============================] - 3s 1ms/step - loss: 1.0508 - acc: 0.6117 - val_loss: 0.9617 - val_acc: 0.6559\n",
      "Epoch 14/100\n",
      "2506/2506 [==============================] - 3s 1ms/step - loss: 1.0267 - acc: 0.6325 - val_loss: 0.9666 - val_acc: 0.6237\n",
      "Epoch 15/100\n",
      "2506/2506 [==============================] - 3s 1ms/step - loss: 0.9585 - acc: 0.6460 - val_loss: 0.9043 - val_acc: 0.6703\n",
      "Epoch 16/100\n",
      "2506/2506 [==============================] - 3s 1ms/step - loss: 0.9610 - acc: 0.6528 - val_loss: 0.9208 - val_acc: 0.6774\n",
      "Epoch 17/100\n",
      "2506/2506 [==============================] - 3s 1ms/step - loss: 0.9196 - acc: 0.6720 - val_loss: 0.8337 - val_acc: 0.7276\n",
      "Epoch 18/100\n",
      "2506/2506 [==============================] - 3s 1ms/step - loss: 0.8735 - acc: 0.6951 - val_loss: 0.7931 - val_acc: 0.7419\n",
      "Epoch 19/100\n",
      "2506/2506 [==============================] - 3s 1ms/step - loss: 0.8339 - acc: 0.6975 - val_loss: 0.7095 - val_acc: 0.7491\n",
      "Epoch 20/100\n",
      "2506/2506 [==============================] - 3s 1ms/step - loss: 0.8028 - acc: 0.7151 - val_loss: 0.6930 - val_acc: 0.7599\n",
      "Epoch 21/100\n",
      "2506/2506 [==============================] - 3s 1ms/step - loss: 0.7839 - acc: 0.7251 - val_loss: 0.7021 - val_acc: 0.7599\n",
      "Epoch 22/100\n",
      "2506/2506 [==============================] - 3s 1ms/step - loss: 0.7664 - acc: 0.7302 - val_loss: 0.7366 - val_acc: 0.7491\n",
      "Epoch 23/100\n",
      "2506/2506 [==============================] - 3s 1ms/step - loss: 0.7052 - acc: 0.7558 - val_loss: 0.6146 - val_acc: 0.7993\n",
      "Epoch 24/100\n",
      "2506/2506 [==============================] - 3s 1ms/step - loss: 0.6881 - acc: 0.7634 - val_loss: 0.6838 - val_acc: 0.7563\n",
      "Epoch 25/100\n",
      "2506/2506 [==============================] - 3s 1ms/step - loss: 0.6820 - acc: 0.7658 - val_loss: 0.6495 - val_acc: 0.7814\n",
      "Epoch 26/100\n",
      "2506/2506 [==============================] - 3s 1ms/step - loss: 0.6427 - acc: 0.7765 - val_loss: 0.6573 - val_acc: 0.7814\n",
      "Epoch 27/100\n",
      "2506/2506 [==============================] - 3s 1ms/step - loss: 0.6374 - acc: 0.7769 - val_loss: 0.6266 - val_acc: 0.7957\n",
      "Epoch 28/100\n",
      "2506/2506 [==============================] - 3s 1ms/step - loss: 0.6181 - acc: 0.7797 - val_loss: 0.5879 - val_acc: 0.8208\n",
      "Epoch 29/100\n",
      "2506/2506 [==============================] - 3s 1ms/step - loss: 0.6114 - acc: 0.7861 - val_loss: 0.6053 - val_acc: 0.7921\n",
      "Epoch 30/100\n",
      "2506/2506 [==============================] - 3s 1ms/step - loss: 0.6068 - acc: 0.7921 - val_loss: 0.6159 - val_acc: 0.7957\n",
      "Epoch 31/100\n",
      "2506/2506 [==============================] - 3s 1ms/step - loss: 0.6084 - acc: 0.7849 - val_loss: 0.6199 - val_acc: 0.7849\n",
      "Epoch 32/100\n",
      "2506/2506 [==============================] - 3s 1ms/step - loss: 0.5773 - acc: 0.7889 - val_loss: 0.6053 - val_acc: 0.7957\n",
      "Epoch 33/100\n",
      "2506/2506 [==============================] - 3s 1ms/step - loss: 0.5658 - acc: 0.8017 - val_loss: 0.5792 - val_acc: 0.8029\n",
      "Epoch 34/100\n",
      "2506/2506 [==============================] - 3s 1ms/step - loss: 0.5338 - acc: 0.8156 - val_loss: 0.5603 - val_acc: 0.8280\n",
      "Epoch 35/100\n",
      "2506/2506 [==============================] - 3s 1ms/step - loss: 0.5184 - acc: 0.8097 - val_loss: 0.5718 - val_acc: 0.8244\n",
      "Epoch 36/100\n",
      "2506/2506 [==============================] - 3s 1ms/step - loss: 0.4753 - acc: 0.8380 - val_loss: 0.5478 - val_acc: 0.8315\n",
      "Epoch 37/100\n",
      "2506/2506 [==============================] - 3s 1ms/step - loss: 0.4725 - acc: 0.8332 - val_loss: 0.5739 - val_acc: 0.8387\n",
      "Epoch 38/100\n",
      "2506/2506 [==============================] - 3s 1ms/step - loss: 0.4649 - acc: 0.8388 - val_loss: 0.5713 - val_acc: 0.7993\n",
      "Epoch 39/100\n",
      "2506/2506 [==============================] - 3s 1ms/step - loss: 0.4428 - acc: 0.8547 - val_loss: 0.5399 - val_acc: 0.8100\n",
      "Epoch 40/100\n",
      "2506/2506 [==============================] - 3s 1ms/step - loss: 0.4392 - acc: 0.8543 - val_loss: 0.5698 - val_acc: 0.8136\n",
      "Epoch 41/100\n",
      "2506/2506 [==============================] - 3s 1ms/step - loss: 0.4374 - acc: 0.8567 - val_loss: 0.6115 - val_acc: 0.8387\n",
      "Epoch 42/100\n",
      "2506/2506 [==============================] - 3s 1ms/step - loss: 0.4780 - acc: 0.8380 - val_loss: 0.5402 - val_acc: 0.8172\n",
      "Epoch 43/100\n",
      "2506/2506 [==============================] - 3s 1ms/step - loss: 0.4380 - acc: 0.8520 - val_loss: 0.5306 - val_acc: 0.8280\n",
      "Epoch 44/100\n",
      "2506/2506 [==============================] - 3s 1ms/step - loss: 0.4018 - acc: 0.8540 - val_loss: 0.6325 - val_acc: 0.7885\n",
      "Epoch 45/100\n",
      "2506/2506 [==============================] - 3s 1ms/step - loss: 0.4044 - acc: 0.8643 - val_loss: 0.6309 - val_acc: 0.8280\n",
      "Epoch 46/100\n"
     ]
    },
    {
     "name": "stdout",
     "output_type": "stream",
     "text": [
      "2506/2506 [==============================] - 3s 1ms/step - loss: 0.3957 - acc: 0.8611 - val_loss: 0.5923 - val_acc: 0.8100\n",
      "Epoch 47/100\n",
      "2506/2506 [==============================] - 3s 1ms/step - loss: 0.3728 - acc: 0.8683 - val_loss: 0.5637 - val_acc: 0.8244\n",
      "Epoch 48/100\n",
      "2506/2506 [==============================] - 3s 1ms/step - loss: 0.3695 - acc: 0.8775 - val_loss: 0.6162 - val_acc: 0.7957\n",
      "Epoch 49/100\n",
      "2506/2506 [==============================] - 3s 1ms/step - loss: 0.3796 - acc: 0.8699 - val_loss: 0.5734 - val_acc: 0.8172\n",
      "Epoch 50/100\n",
      "2506/2506 [==============================] - 3s 1ms/step - loss: 0.3477 - acc: 0.8799 - val_loss: 0.6011 - val_acc: 0.8172\n",
      "Epoch 51/100\n",
      "2506/2506 [==============================] - 3s 1ms/step - loss: 0.3325 - acc: 0.8863 - val_loss: 0.5824 - val_acc: 0.8172\n",
      "Epoch 52/100\n",
      "2506/2506 [==============================] - 3s 1ms/step - loss: 0.3282 - acc: 0.8871 - val_loss: 0.7162 - val_acc: 0.7993\n",
      "Epoch 53/100\n",
      "2506/2506 [==============================] - 3s 1ms/step - loss: 0.3410 - acc: 0.8787 - val_loss: 0.5792 - val_acc: 0.8065\n",
      "Epoch 54/100\n",
      "2506/2506 [==============================] - 3s 1ms/step - loss: 0.3395 - acc: 0.8835 - val_loss: 0.5819 - val_acc: 0.8029\n",
      "Epoch 55/100\n",
      "2506/2506 [==============================] - 3s 1ms/step - loss: 0.3001 - acc: 0.8962 - val_loss: 0.6079 - val_acc: 0.7993\n",
      "Epoch 56/100\n",
      "2506/2506 [==============================] - 3s 1ms/step - loss: 0.2955 - acc: 0.9034 - val_loss: 0.6604 - val_acc: 0.7849\n",
      "Epoch 57/100\n",
      "2506/2506 [==============================] - 3s 1ms/step - loss: 0.3075 - acc: 0.8939 - val_loss: 0.6578 - val_acc: 0.8100\n",
      "Epoch 58/100\n",
      "2506/2506 [==============================] - 3s 1ms/step - loss: 0.2807 - acc: 0.9098 - val_loss: 0.5810 - val_acc: 0.8280\n",
      "Epoch 59/100\n",
      "2506/2506 [==============================] - 3s 1ms/step - loss: 0.2731 - acc: 0.9054 - val_loss: 0.6313 - val_acc: 0.8100\n",
      "Epoch 60/100\n",
      "2506/2506 [==============================] - 3s 1ms/step - loss: 0.2916 - acc: 0.9018 - val_loss: 0.6848 - val_acc: 0.7921\n",
      "Epoch 61/100\n",
      "2506/2506 [==============================] - 3s 1ms/step - loss: 0.2669 - acc: 0.9074 - val_loss: 0.5854 - val_acc: 0.8244\n",
      "Epoch 62/100\n",
      "2506/2506 [==============================] - 3s 1ms/step - loss: 0.2750 - acc: 0.8978 - val_loss: 0.6644 - val_acc: 0.8136\n",
      "Epoch 63/100\n",
      "2506/2506 [==============================] - 3s 1ms/step - loss: 0.2427 - acc: 0.9226 - val_loss: 0.7542 - val_acc: 0.7706\n",
      "Epoch 64/100\n",
      "2506/2506 [==============================] - 3s 1ms/step - loss: 0.2677 - acc: 0.9154 - val_loss: 0.6689 - val_acc: 0.7957\n",
      "Epoch 65/100\n",
      "2506/2506 [==============================] - 3s 1ms/step - loss: 0.2737 - acc: 0.9054 - val_loss: 0.7214 - val_acc: 0.7742\n",
      "Epoch 66/100\n",
      "2506/2506 [==============================] - 3s 1ms/step - loss: 0.2512 - acc: 0.9170 - val_loss: 0.5985 - val_acc: 0.8065\n",
      "Epoch 67/100\n",
      "2506/2506 [==============================] - 3s 1ms/step - loss: 0.2524 - acc: 0.9122 - val_loss: 0.6980 - val_acc: 0.7993\n",
      "Epoch 68/100\n",
      "2506/2506 [==============================] - 3s 1ms/step - loss: 0.2351 - acc: 0.9238 - val_loss: 0.6341 - val_acc: 0.8172\n",
      "Epoch 69/100\n",
      "2506/2506 [==============================] - 3s 1ms/step - loss: 0.2311 - acc: 0.9246 - val_loss: 0.7127 - val_acc: 0.8065\n",
      "Epoch 70/100\n",
      "2506/2506 [==============================] - 3s 1ms/step - loss: 0.2460 - acc: 0.9114 - val_loss: 0.6115 - val_acc: 0.8280\n",
      "Epoch 71/100\n",
      "2506/2506 [==============================] - 3s 1ms/step - loss: 0.2362 - acc: 0.9170 - val_loss: 0.7274 - val_acc: 0.8029\n",
      "Epoch 72/100\n",
      "2506/2506 [==============================] - 3s 1ms/step - loss: 0.2420 - acc: 0.9174 - val_loss: 0.6593 - val_acc: 0.8029\n",
      "Epoch 73/100\n",
      "2506/2506 [==============================] - 3s 1ms/step - loss: 0.2066 - acc: 0.9318 - val_loss: 0.6506 - val_acc: 0.8100\n",
      "Epoch 74/100\n",
      "2506/2506 [==============================] - 3s 1ms/step - loss: 0.2206 - acc: 0.9270 - val_loss: 0.7517 - val_acc: 0.8244\n",
      "Epoch 75/100\n",
      "2506/2506 [==============================] - 3s 1ms/step - loss: 0.2458 - acc: 0.9154 - val_loss: 0.6974 - val_acc: 0.7849\n",
      "Epoch 76/100\n",
      "2506/2506 [==============================] - 3s 1ms/step - loss: 0.2046 - acc: 0.9334 - val_loss: 0.6978 - val_acc: 0.8029\n",
      "Epoch 77/100\n",
      "2506/2506 [==============================] - 3s 1ms/step - loss: 0.1861 - acc: 0.9393 - val_loss: 0.7039 - val_acc: 0.8136\n",
      "Epoch 78/100\n",
      "2506/2506 [==============================] - 3s 1ms/step - loss: 0.1756 - acc: 0.9481 - val_loss: 0.7461 - val_acc: 0.8172\n",
      "Epoch 79/100\n",
      "2506/2506 [==============================] - 3s 1ms/step - loss: 0.1720 - acc: 0.9421 - val_loss: 0.7312 - val_acc: 0.8136\n",
      "Epoch 80/100\n",
      "2506/2506 [==============================] - 3s 1ms/step - loss: 0.1737 - acc: 0.9421 - val_loss: 0.7409 - val_acc: 0.7849\n",
      "Epoch 81/100\n",
      "2506/2506 [==============================] - 3s 1ms/step - loss: 0.1815 - acc: 0.9370 - val_loss: 0.6842 - val_acc: 0.8029\n",
      "Epoch 82/100\n",
      "2506/2506 [==============================] - 3s 1ms/step - loss: 0.1753 - acc: 0.9417 - val_loss: 0.7847 - val_acc: 0.7993\n",
      "Epoch 83/100\n",
      "2506/2506 [==============================] - 3s 1ms/step - loss: 0.1606 - acc: 0.9433 - val_loss: 0.7231 - val_acc: 0.8065\n",
      "Epoch 84/100\n",
      "2506/2506 [==============================] - 3s 1ms/step - loss: 0.1656 - acc: 0.9465 - val_loss: 0.7020 - val_acc: 0.7993\n",
      "Epoch 85/100\n",
      "2506/2506 [==============================] - 3s 1ms/step - loss: 0.1562 - acc: 0.9489 - val_loss: 0.7664 - val_acc: 0.7993\n",
      "Epoch 86/100\n",
      "2506/2506 [==============================] - 3s 1ms/step - loss: 0.1510 - acc: 0.9501 - val_loss: 0.7253 - val_acc: 0.8100\n",
      "Epoch 87/100\n",
      "2506/2506 [==============================] - 3s 1ms/step - loss: 0.1378 - acc: 0.9561 - val_loss: 0.7235 - val_acc: 0.8065\n",
      "Epoch 88/100\n",
      "2506/2506 [==============================] - 3s 1ms/step - loss: 0.1504 - acc: 0.9505 - val_loss: 0.7640 - val_acc: 0.7921\n",
      "Epoch 89/100\n",
      "2506/2506 [==============================] - 3s 1ms/step - loss: 0.1392 - acc: 0.9501 - val_loss: 0.6828 - val_acc: 0.8423\n",
      "Epoch 90/100\n",
      "2506/2506 [==============================] - 3s 1ms/step - loss: 0.1378 - acc: 0.9549 - val_loss: 0.8188 - val_acc: 0.7993\n",
      "Epoch 91/100\n",
      "2506/2506 [==============================] - 3s 1ms/step - loss: 0.1285 - acc: 0.9593 - val_loss: 0.8223 - val_acc: 0.8100\n",
      "Epoch 92/100\n",
      "2506/2506 [==============================] - 3s 1ms/step - loss: 0.1456 - acc: 0.9433 - val_loss: 0.7497 - val_acc: 0.8280\n",
      "Epoch 93/100\n",
      "2506/2506 [==============================] - 3s 1ms/step - loss: 0.1254 - acc: 0.9589 - val_loss: 0.8312 - val_acc: 0.8172\n",
      "Epoch 94/100\n",
      "2506/2506 [==============================] - 3s 1ms/step - loss: 0.1388 - acc: 0.9541 - val_loss: 0.8878 - val_acc: 0.7885\n",
      "Epoch 95/100\n",
      "2506/2506 [==============================] - 3s 1ms/step - loss: 0.1413 - acc: 0.9513 - val_loss: 0.8965 - val_acc: 0.8136\n",
      "Epoch 96/100\n",
      "2506/2506 [==============================] - 3s 1ms/step - loss: 0.1268 - acc: 0.9577 - val_loss: 0.8261 - val_acc: 0.8280\n",
      "Epoch 97/100\n",
      "2506/2506 [==============================] - 3s 1ms/step - loss: 0.1458 - acc: 0.9485 - val_loss: 0.8072 - val_acc: 0.8136\n",
      "Epoch 98/100\n",
      "2506/2506 [==============================] - 3s 1ms/step - loss: 0.1328 - acc: 0.9557 - val_loss: 0.7248 - val_acc: 0.8136\n",
      "Epoch 99/100\n",
      "2506/2506 [==============================] - 3s 1ms/step - loss: 0.1211 - acc: 0.9581 - val_loss: 0.9012 - val_acc: 0.8065\n",
      "Epoch 100/100\n",
      "2506/2506 [==============================] - 3s 1ms/step - loss: 0.1161 - acc: 0.9601 - val_loss: 0.9655 - val_acc: 0.7921\n",
      "Test Accuracy: 0.7890961262553802\n",
      "Confusion matrix, without normalization\n",
      "Normalized confusion matrix\n"
     ]
    },
    {
     "data": {
      "text/plain": [
       "0.7890961262553802"
      ]
     },
     "execution_count": 120,
     "metadata": {},
     "output_type": "execute_result"
    },
    {
     "data": {
      "image/png": "[encoded data removed]",
      "text/plain": [
       "<Figure size 720x720 with 2 Axes>"
      ]
     },
     "metadata": {
      "needs_background": "light"
     },
     "output_type": "display_data"
    }
   ],
   "source": [
    "evaluation(vectors_file_path, print_sum=True, plot_mat=True)"
   ]
  },
  {
   "cell_type": "code",
   "execution_count": null,
   "metadata": {},
   "outputs": [],
   "source": []
  }
 ],
 "metadata": {
  "kernelspec": {
   "display_name": "Python 3",
   "language": "python",
   "name": "python3"
  },
  "language_info": {
   "codemirror_mode": {
    "name": "ipython",
    "version": 3
   },
   "file_extension": ".py",
   "mimetype": "text/x-python",
   "name": "python",
   "nbconvert_exporter": "python",
   "pygments_lexer": "ipython3",
   "version": "3.6.6"
  }
 },
 "nbformat": 4,
 "nbformat_minor": 2
}
